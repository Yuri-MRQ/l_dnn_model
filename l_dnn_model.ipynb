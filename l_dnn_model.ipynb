{
 "cells": [
  {
   "cell_type": "code",
   "execution_count": 1,
   "metadata": {},
   "outputs": [],
   "source": [
    "import numpy as np\n",
    "from dnn_helpers_fn import *\n"
   ]
  },
  {
   "cell_type": "code",
   "execution_count": 2,
   "metadata": {},
   "outputs": [],
   "source": [
    "from sklearn.datasets import fetch_openml\n",
    "mnist = fetch_openml('mnist_784')"
   ]
  },
  {
   "cell_type": "code",
   "execution_count": 3,
   "metadata": {},
   "outputs": [],
   "source": [
    "X, Y = mnist['data'], mnist['target']\n"
   ]
  },
  {
   "cell_type": "code",
   "execution_count": 4,
   "metadata": {},
   "outputs": [],
   "source": [
    "def one_hot_array(Y):\n",
    "    b = np.zeros((int(Y.size), int(Y.max()) + 1))\n",
    "    b[np.arange(Y.size), Y.astype(int)] = 1\n",
    "    return b.T"
   ]
  },
  {
   "cell_type": "code",
   "execution_count": 5,
   "metadata": {},
   "outputs": [
    {
     "name": "stdout",
     "output_type": "stream",
     "text": [
      "Shape of X is:  (784, 70000)\n",
      "Shape of Y is:  (10, 70000)\n"
     ]
    }
   ],
   "source": [
    "X = X.to_numpy().T.astype(float)\n",
    "Y = Y.to_numpy().T.astype(float)\n",
    "Y_onehot = one_hot_array(Y)\n",
    "print(\"Shape of X is: \", str(X.shape))\n",
    "print(\"Shape of Y is: \", str(Y_onehot.shape))"
   ]
  },
  {
   "cell_type": "code",
   "execution_count": 6,
   "metadata": {},
   "outputs": [],
   "source": [
    "split_size = 50000"
   ]
  },
  {
   "cell_type": "code",
   "execution_count": 7,
   "metadata": {},
   "outputs": [
    {
     "name": "stdout",
     "output_type": "stream",
     "text": [
      "Shape of X_train is: (784, 50000)\n",
      "Shape of X_test is: (784, 10000)\n",
      "Shape of X_dev is: (784, 10000)\n",
      "Shape of Y_train is: (10, 50000)\n",
      "Shape of Y_test is: (10, 10000)\n",
      "Shape of Y_dev is: (10, 10000)\n"
     ]
    }
   ],
   "source": [
    "X_train = X[:, 0:split_size]\n",
    "X_test = X[:, split_size:60000]\n",
    "X_dev = X[:, 60000:70000]\n",
    "Y_train = Y_onehot[:, 0:split_size]\n",
    "Y_test = Y_onehot[:, split_size:60000]\n",
    "Y_dev = Y_onehot[:, 60000:70000]\n",
    "print(\"Shape of X_train is: \" + str(X_train.shape))\n",
    "print(\"Shape of X_test is: \" + str(X_test.shape))\n",
    "print(\"Shape of X_dev is: \" + str(X_dev.shape))\n",
    "print(\"Shape of Y_train is: \" + str(Y_train.shape))\n",
    "print(\"Shape of Y_test is: \" + str(Y_test.shape))\n",
    "print(\"Shape of Y_dev is: \" + str(Y_dev.shape))"
   ]
  },
  {
   "cell_type": "code",
   "execution_count": 8,
   "metadata": {},
   "outputs": [],
   "source": [
    "import matplotlib.pyplot as plt"
   ]
  },
  {
   "cell_type": "code",
   "execution_count": 9,
   "metadata": {
    "scrolled": true
   },
   "outputs": [
    {
     "name": "stdout",
     "output_type": "stream",
     "text": [
      "y = [0. 0. 0. 0. 0. 0. 0. 0. 1. 0.]\n"
     ]
    },
    {
     "data": {
      "image/png": "[encoded data removed]",
      "text/plain": [
       "<Figure size 432x288 with 1 Axes>"
      ]
     },
     "metadata": {
      "needs_background": "light"
     },
     "output_type": "display_data"
    }
   ],
   "source": [
    "index = 240\n",
    "plt.imshow((X_train.T[index]*255).reshape(28,28))\n",
    "print (\"y = \" + str(Y_train.T[index]))"
   ]
  },
  {
   "cell_type": "code",
   "execution_count": null,
   "metadata": {
    "scrolled": false
   },
   "outputs": [],
   "source": [
    "parameters, activation = l_dnn(X_train, Y_train, X_test, Y_test, learning_rate=0.001, num_iterations=400, \n",
    "                   model_shape=(784, 700, 200, 10), activation=['relu', 'relu', 'softmax'],  print_cost=True)"
   ]
  },
  {
   "cell_type": "code",
   "execution_count": 37,
   "metadata": {},
   "outputs": [
    {
     "name": "stdout",
     "output_type": "stream",
     "text": [
      "Train set error is: 0.9674000000000001\n",
      "Test set error is: 0.9150000000000003\n"
     ]
    }
   ],
   "source": [
    "pred_test, probs_test = predict(X_test, parameters, activation)\n",
    "print(\"Test set error is: \" + str(evaluate_prediction(pred_test, Y_test)))"
   ]
  },
  {
   "cell_type": "code",
   "execution_count": null,
   "metadata": {},
   "outputs": [],
   "source": []
  }
 ],
 "metadata": {
  "kernelspec": {
   "display_name": "Python 3",
   "language": "python",
   "name": "python3"
  },
  "language_info": {
   "codemirror_mode": {
    "name": "ipython",
    "version": 3
   },
   "file_extension": ".py",
   "mimetype": "text/x-python",
   "name": "python",
   "nbconvert_exporter": "python",
   "pygments_lexer": "ipython3",
   "version": "3.8.5"
  }
 },
 "nbformat": 4,
 "nbformat_minor": 4
}
