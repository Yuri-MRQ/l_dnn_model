{
 "cells": [
  {
   "cell_type": "markdown",
   "id": "0c7f1e98",
   "metadata": {},
   "source": [
    "## Many thanks to Andrew W. Task and his Great book Grokking Deep Learning "
   ]
  },
  {
   "cell_type": "code",
   "execution_count": 1,
   "id": "fe6707c6",
   "metadata": {},
   "outputs": [],
   "source": [
    "import numpy as np"
   ]
  },
  {
   "cell_type": "code",
   "execution_count": 201,
   "id": "cb8ee5e2",
   "metadata": {},
   "outputs": [],
   "source": [
    "class Tensor(object):\n",
    "    \n",
    "    def __init__(self, data,\n",
    "                 autograd=False,\n",
    "                 creators=None,\n",
    "                 creation_op=None,\n",
    "                 id=None):\n",
    "        \n",
    "        self.data = np.array(data)\n",
    "        self.creators = creators\n",
    "        self.creation_op = creation_op\n",
    "        self.grad = None\n",
    "        self.autograd = autograd\n",
    "        self.children = {}\n",
    "        if id is None:\n",
    "            id = np.random.randint(0, 100000)\n",
    "        self.id = id\n",
    "        \n",
    "        if creators is not None:\n",
    "            for father in creators:\n",
    "                if self.id not in father.children:\n",
    "                    father.children[self.id] = 1\n",
    "                else:\n",
    "                    father.children[self.id] += 1\n",
    "                    \n",
    "    def all_children_grads_accounter_for(self):\n",
    "        #in the backward function every time\n",
    "        #we backprop through a children we decrease\n",
    "        #the count, so we can confirme if the Tensor\n",
    "        #has recived the correct number of grad\n",
    "        \n",
    "        for children_id, count in self.children.items():\n",
    "            if count != 0:\n",
    "                return False\n",
    "        return True\n",
    "        \n",
    "        \n",
    "    def backward(self, grad, grad_origin=None):\n",
    "        if self.autograd:\n",
    "            if grad_origin is not None:\n",
    "                if self.children[grad_origin.id] == 0:\n",
    "                    raise Exception(\"cannot backprop more than once\")\n",
    "                else:\n",
    "                    self.children[grad_origin.id] -= 1\n",
    "                    \n",
    "            if self.grad is None:\n",
    "                if type(grad) == np.ndarray:\n",
    "                    self.grad = grad.copy()\n",
    "                else:\n",
    "                    self.grad = grad\n",
    "            else:\n",
    "                self.grad += grad\n",
    "\n",
    "            if self.creators is not None and (self.all_children_grads_accounter_for() or grad_origin is None):\n",
    "                \n",
    "                if(self.creation_op == \"add\"):\n",
    "                    self.creators[0].backward(grad, self)\n",
    "                    self.creators[1].backward(grad, self)\n",
    "                    \n",
    "                if(self.creation_op == \"neg\"):\n",
    "                    self.creators[0].backward(self.grad.__neg__())\n",
    "\n",
    "\n",
    "        \n",
    "    def __add__(self, other):\n",
    "        if self.autograd and other.autograd:\n",
    "            return Tensor(self.data + other.data,\n",
    "                         autograd=True,\n",
    "                         creators=[self, other],\n",
    "                         creation_op=\"add\")\n",
    "        return Tensor(self.data + other.data)\n",
    "    \n",
    "    def __neg__(self):\n",
    "        if self.autograd:\n",
    "            return Tensor(self.data * -1,\n",
    "                         autograd=True,\n",
    "                         creators=[self],\n",
    "                         creation_op=\"neg\")\n",
    "        return Tensor(self.data * -1)\n",
    "    \n",
    "    def __repr__(self):\n",
    "        return str(self.data.__repr__())\n",
    "    \n",
    "    def __str__(self):\n",
    "        return str(self.data.__str__())"
   ]
  },
  {
   "cell_type": "code",
   "execution_count": 202,
   "id": "50c1d72e",
   "metadata": {},
   "outputs": [],
   "source": [
    "a = Tensor([1, 2, 3, 4, 5], autograd=True)\n",
    "b = Tensor([2, 2, 2, 2, 2], autograd=True)\n",
    "c = Tensor([5, 4, 3, 2, 1], autograd=True)"
   ]
  },
  {
   "cell_type": "code",
   "execution_count": 203,
   "id": "26bb3cfe",
   "metadata": {},
   "outputs": [],
   "source": [
    "d = a + b\n",
    "e = b + c\n",
    "f = d + e"
   ]
  },
  {
   "cell_type": "code",
   "execution_count": 205,
   "id": "3138b904",
   "metadata": {},
   "outputs": [],
   "source": [
    "f.backward(np.array([1, 1, 1, 1, 1]))"
   ]
  },
  {
   "cell_type": "code",
   "execution_count": 42,
   "id": "50b40436",
   "metadata": {},
   "outputs": [
    {
     "data": {
      "text/plain": [
       "{388: 1, 32523: 1}"
      ]
     },
     "execution_count": 42,
     "metadata": {},
     "output_type": "execute_result"
    }
   ],
   "source": [
    "b.children"
   ]
  },
  {
   "cell_type": "code",
   "execution_count": 25,
   "id": "464fa52f",
   "metadata": {},
   "outputs": [
    {
     "name": "stdout",
     "output_type": "stream",
     "text": [
      "Creators: [array([1, 2, 3, 4, 5]), array([2, 2, 2, 2, 2])] \n",
      "Creation op: add \n",
      "Grad: [1 1 1 1 1]\n"
     ]
    }
   ],
   "source": [
    "print(\"Creators:\", z.creators, \"\\nCreation op:\", z.creation_op,\"\\nZ Grad:\", z.grad,\n",
    "     \"\\nx Grad:\", x.grad, \"\\ny Grad:\", y.grad)"
   ]
  },
  {
   "cell_type": "code",
   "execution_count": 22,
   "id": "32c73c15",
   "metadata": {},
   "outputs": [],
   "source": [
    "z.backward(np.array([1, 1, 1, 1, 1]))"
   ]
  },
  {
   "cell_type": "code",
   "execution_count": 27,
   "id": "52689e5a",
   "metadata": {},
   "outputs": [
    {
     "name": "stdout",
     "output_type": "stream",
     "text": [
      "Creators: [array([1, 2, 3, 4, 5]), array([2, 2, 2, 2, 2])] \n",
      "Creation op: add \n",
      "Z Grad: [1 1 1 1 1] \n",
      "x Grad: [1 1 1 1 1] \n",
      "y Grad: [1 1 1 1 1]\n"
     ]
    }
   ],
   "source": [
    "print(\"Creators:\", z.creators, \"\\nCreation op:\", z.creation_op,\"\\nZ Grad:\", z.grad,\n",
    "     \"\\nx Grad:\", x.grad, \"\\ny Grad:\", y.grad)"
   ]
  },
  {
   "cell_type": "code",
   "execution_count": 28,
   "id": "4f76eab8",
   "metadata": {},
   "outputs": [],
   "source": [
    "w = z + x"
   ]
  },
  {
   "cell_type": "code",
   "execution_count": 29,
   "id": "2a334075",
   "metadata": {},
   "outputs": [],
   "source": [
    "w.backward(np.array([1, 1, 1, 1, 1]))"
   ]
  },
  {
   "cell_type": "code",
   "execution_count": 31,
   "id": "4c048e7a",
   "metadata": {},
   "outputs": [
    {
     "name": "stdout",
     "output_type": "stream",
     "text": [
      "W Creators: [array([3, 4, 5, 6, 7]), array([1, 2, 3, 4, 5])] \n",
      "W Creation op: add \n",
      "Z Grad: [1 1 1 1 1] \n",
      "x Grad: [1 1 1 1 1] \n",
      "y Grad: [1 1 1 1 1] \n",
      "w Grad: [1 1 1 1 1]\n"
     ]
    }
   ],
   "source": [
    "print(\"W Creators:\", w.creators, \"\\nW Creation op:\", w.creation_op,\"\\nZ Grad:\", z.grad,\n",
    "     \"\\nx Grad:\", x.grad, \"\\ny Grad:\", y.grad, \"\\nw Grad:\", w.grad)"
   ]
  },
  {
   "cell_type": "code",
   "execution_count": 32,
   "id": "e12447a9",
   "metadata": {},
   "outputs": [
    {
     "name": "stdout",
     "output_type": "stream",
     "text": [
      "a 1\n",
      "b 1\n"
     ]
    }
   ],
   "source": [
    "a = {'a': 1, 'b':1}\n",
    "for id, cnt in a.items():\n",
    "    print(id, cnt)"
   ]
  },
  {
   "cell_type": "code",
   "execution_count": null,
   "id": "5aa75be2",
   "metadata": {},
   "outputs": [],
   "source": []
  }
 ],
 "metadata": {
  "kernelspec": {
   "display_name": "Python 3 (ipykernel)",
   "language": "python",
   "name": "python3"
  },
  "language_info": {
   "codemirror_mode": {
    "name": "ipython",
    "version": 3
   },
   "file_extension": ".py",
   "mimetype": "text/x-python",
   "name": "python",
   "nbconvert_exporter": "python",
   "pygments_lexer": "ipython3",
   "version": "3.8.2"
  }
 },
 "nbformat": 4,
 "nbformat_minor": 5
}
