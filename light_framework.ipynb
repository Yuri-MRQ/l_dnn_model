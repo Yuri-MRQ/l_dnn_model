{
 "cells": [
  {
   "cell_type": "markdown",
   "id": "526f17f1",
   "metadata": {},
   "source": [
    "## Many thanks to Andrew W. Task and his Great book Grokking Deep Learning "
   ]
  },
  {
   "cell_type": "code",
   "execution_count": 6,
   "id": "d48c5571",
   "metadata": {},
   "outputs": [],
   "source": [
    "import numpy as np"
   ]
  },
  {
   "cell_type": "code",
   "execution_count": 27,
   "id": "b85c1063",
   "metadata": {},
   "outputs": [],
   "source": [
    "class Tensor(object):\n",
    "    \n",
    "    def __init__(self, data,\n",
    "                 autograd=False,\n",
    "                 creators=None,\n",
    "                 creation_op=None,\n",
    "                 id=None):\n",
    "        \n",
    "        self.data = np.array(data)\n",
    "        self.creators = creators\n",
    "        self.creation_op = creation_op\n",
    "        self.grad = None\n",
    "        self.autograd = autograd\n",
    "        self.children = {}\n",
    "        if id is None:\n",
    "            id = np.random.randint(0, 100000)\n",
    "        self.id = id\n",
    "        \n",
    "        if creators is not None:\n",
    "            for father in creators:\n",
    "                if self.id not in father.children:\n",
    "                    father.children[self.id] = 1\n",
    "                else:\n",
    "                    father.children[self.id] += 1\n",
    "                    \n",
    "    def all_children_grads_accounter_for(self):\n",
    "        #in the backward function every time\n",
    "        #we backprop through a children we decrease\n",
    "        #the count, so we can confirme if the Tensor\n",
    "        #has recived the correct number of grad\n",
    "        \n",
    "        for children_id, count in self.children.items():\n",
    "            if count != 0:\n",
    "                return False\n",
    "        return True\n",
    "        \n",
    "        \n",
    "    def backward(self, grad, grad_origin=None):\n",
    "        if self.autograd:\n",
    "            if grad_origin is not None:\n",
    "                if self.children[grad_origin.id] == 0:\n",
    "                    raise Exception(\"cannot backprop more than once\")\n",
    "                else:\n",
    "                    self.children[grad_origin.id] -= 1\n",
    "                    \n",
    "            if self.grad is None:\n",
    "                if type(grad) == np.ndarray:\n",
    "                    self.grad = grad.copy()\n",
    "                else:\n",
    "                    self.grad = grad\n",
    "            else:\n",
    "                self.grad += grad\n",
    "\n",
    "            if self.creators is not None and (self.all_children_grads_accounter_for() or grad_origin is None):\n",
    "                \n",
    "                if(self.creation_op == \"add\"):\n",
    "                    self.creators[0].backward(grad, self)\n",
    "                    self.creators[1].backward(grad, self)\n",
    "                    \n",
    "                if(self.creation_op == \"neg\"):\n",
    "                    self.creators[0].backward(self.grad.__neg__())\n",
    "\n",
    "    def sum(self, dimension):\n",
    "        if self.autograd:\n",
    "            return Tensor(self.data.sum(dimension),\n",
    "                         autograd=True,\n",
    "                         creator=[self],\n",
    "                         creation_op=\"sum_\" +str(dimension))\n",
    "        return Tensor(self.data.sum(dimension))\n",
    "    \n",
    "    def expand_dimension(self, dimension, copies):\n",
    "        \n",
    "        trans_cmd = list(range(0, len(self.data.shape)))\n",
    "        trans_cmd.insert(dimension, len(self.data.shape))\n",
    "        new_shape = list(self.data.shape) + [copies]\n",
    "        new_data = self.data.repeat(copies).reshape(new_shape)\n",
    "        new_data = new_data.transpose(trans_cmd)\n",
    "        \n",
    "        if self.autograd:\n",
    "            return Tensor(new_data,\n",
    "                         autograd=True,\n",
    "                         creators=[self],\n",
    "                         creation_op=\"expand_\"+str(dim))\n",
    "        return Tensor(new_data)\n",
    "    \n",
    "    def transpose(self):\n",
    "        if self.autograd:\n",
    "            return Tensor(self.data.transpose(),\n",
    "                         autograd=True,\n",
    "                         creators=[self],\n",
    "                         creation_op=\"transpose\")\n",
    "        return Tensor(self.data.transpose())\n",
    "    \n",
    "    def mm(self.data, x):\n",
    "        if self.autograd:\n",
    "            return Tensor(self.data.dot(x.data),\n",
    "                         autograd=True,\n",
    "                         creators=[self, x],\n",
    "                         creation_op=\"mm\")\n",
    "        return Tensor(self.data.dot(x.data))\n",
    "        \n",
    "    def __add__(self, other):\n",
    "        if self.autograd and other.autograd:\n",
    "            return Tensor(self.data + other.data,\n",
    "                         autograd=True,\n",
    "                         creators=[self, other],\n",
    "                         creation_op=\"add\")\n",
    "        return Tensor(self.data + other.data)\n",
    "    \n",
    "    def __neg__(self):\n",
    "        if self.autograd:\n",
    "            return Tensor(self.data * -1,\n",
    "                         autograd=True,\n",
    "                         creators=[self],\n",
    "                         creation_op=\"neg\")\n",
    "        return Tensor(self.data * -1)\n",
    "    \n",
    "    def __sub__(self, other):\n",
    "        if self.autograd and other.autograd:\n",
    "            return Tensor(self.data - other.data,\n",
    "                         autograd=True,\n",
    "                         creators=[self, other],\n",
    "                         creation_op=\"sub\")\n",
    "        return Tensor(self.data - other.data)\n",
    "    \n",
    "    def __mul__(self, other):\n",
    "        if self.autograd and other.autograd:\n",
    "            return Tensor(self.data * other.data,\n",
    "                         autograd=True,\n",
    "                         creators=[self, other],\n",
    "                         creation_op=\"mul\")\n",
    "        return Tensor(self.data * other.data)\n",
    "    \n",
    "    \n",
    "    def __repr__(self):\n",
    "        return str(self.data.__repr__())\n",
    "    \n",
    "    def __str__(self):\n",
    "        return str(self.data.__str__())"
   ]
  },
  {
   "cell_type": "code",
   "execution_count": 218,
   "id": "b7a7d6ee",
   "metadata": {},
   "outputs": [],
   "source": [
    "a = Tensor([1, 2, 3, 4, 5], autograd=True)\n",
    "b = Tensor([2, 2, 2, 2, 2], autograd=True)\n",
    "c = Tensor([5, 4, 3, 2, 1], autograd=True)"
   ]
  },
  {
   "cell_type": "code",
   "execution_count": 219,
   "id": "9acecbaf",
   "metadata": {},
   "outputs": [],
   "source": [
    "d = a + (-b)\n",
    "e = b + c\n",
    "f = d + e"
   ]
  },
  {
   "cell_type": "code",
   "execution_count": 220,
   "id": "53523373",
   "metadata": {},
   "outputs": [],
   "source": [
    "f.backward(np.array([1, 1, 1, 1, 1]))"
   ]
  },
  {
   "cell_type": "code",
   "execution_count": 221,
   "id": "4f0d9865",
   "metadata": {},
   "outputs": [
    {
     "data": {
      "text/plain": [
       "array([0, 0, 0, 0, 0])"
      ]
     },
     "execution_count": 221,
     "metadata": {},
     "output_type": "execute_result"
    }
   ],
   "source": [
    "b.grad"
   ]
  },
  {
   "cell_type": "code",
   "execution_count": 25,
   "id": "4d44654e",
   "metadata": {},
   "outputs": [
    {
     "name": "stdout",
     "output_type": "stream",
     "text": [
      "Creators: [array([1, 2, 3, 4, 5]), array([2, 2, 2, 2, 2])] \n",
      "Creation op: add \n",
      "Grad: [1 1 1 1 1]\n"
     ]
    }
   ],
   "source": [
    "print(\"Creators:\", z.creators, \"\\nCreation op:\", z.creation_op,\"\\nZ Grad:\", z.grad,\n",
    "     \"\\nx Grad:\", x.grad, \"\\ny Grad:\", y.grad)"
   ]
  },
  {
   "cell_type": "code",
   "execution_count": 22,
   "id": "83673d79",
   "metadata": {},
   "outputs": [],
   "source": [
    "z.backward(np.array([1, 1, 1, 1, 1]))"
   ]
  },
  {
   "cell_type": "code",
   "execution_count": 27,
   "id": "22ed0897",
   "metadata": {},
   "outputs": [
    {
     "name": "stdout",
     "output_type": "stream",
     "text": [
      "Creators: [array([1, 2, 3, 4, 5]), array([2, 2, 2, 2, 2])] \n",
      "Creation op: add \n",
      "Z Grad: [1 1 1 1 1] \n",
      "x Grad: [1 1 1 1 1] \n",
      "y Grad: [1 1 1 1 1]\n"
     ]
    }
   ],
   "source": [
    "print(\"Creators:\", z.creators, \"\\nCreation op:\", z.creation_op,\"\\nZ Grad:\", z.grad,\n",
    "     \"\\nx Grad:\", x.grad, \"\\ny Grad:\", y.grad)"
   ]
  },
  {
   "cell_type": "code",
   "execution_count": 28,
   "id": "03811a02",
   "metadata": {},
   "outputs": [],
   "source": [
    "w = z + x"
   ]
  },
  {
   "cell_type": "code",
   "execution_count": 29,
   "id": "1fc1460c",
   "metadata": {},
   "outputs": [],
   "source": [
    "w.backward(np.array([1, 1, 1, 1, 1]))"
   ]
  },
  {
   "cell_type": "code",
   "execution_count": 31,
   "id": "12d4d582",
   "metadata": {},
   "outputs": [
    {
     "name": "stdout",
     "output_type": "stream",
     "text": [
      "W Creators: [array([3, 4, 5, 6, 7]), array([1, 2, 3, 4, 5])] \n",
      "W Creation op: add \n",
      "Z Grad: [1 1 1 1 1] \n",
      "x Grad: [1 1 1 1 1] \n",
      "y Grad: [1 1 1 1 1] \n",
      "w Grad: [1 1 1 1 1]\n"
     ]
    }
   ],
   "source": [
    "print(\"W Creators:\", w.creators, \"\\nW Creation op:\", w.creation_op,\"\\nZ Grad:\", z.grad,\n",
    "     \"\\nx Grad:\", x.grad, \"\\ny Grad:\", y.grad, \"\\nw Grad:\", w.grad)"
   ]
  },
  {
   "cell_type": "code",
   "execution_count": 32,
   "id": "1a71353e",
   "metadata": {},
   "outputs": [
    {
     "name": "stdout",
     "output_type": "stream",
     "text": [
      "a 1\n",
      "b 1\n"
     ]
    }
   ],
   "source": [
    "a = {'a': 1, 'b':1}\n",
    "for id, cnt in a.items():\n",
    "    print(id, cnt)"
   ]
  },
  {
   "cell_type": "code",
   "execution_count": 1,
   "id": "2e0b6db1",
   "metadata": {},
   "outputs": [
    {
     "data": {
      "text/plain": [
       "[1, 2, 3, 8]"
      ]
     },
     "execution_count": 1,
     "metadata": {},
     "output_type": "execute_result"
    }
   ],
   "source": [
    "[1, 2, 3] + [8]"
   ]
  },
  {
   "cell_type": "code",
   "execution_count": null,
   "id": "64f53387",
   "metadata": {},
   "outputs": [],
   "source": []
  }
 ],
 "metadata": {
  "kernelspec": {
   "display_name": "Python 3 (ipykernel)",
   "language": "python",
   "name": "python3"
  },
  "language_info": {
   "codemirror_mode": {
    "name": "ipython",
    "version": 3
   },
   "file_extension": ".py",
   "mimetype": "text/x-python",
   "name": "python",
   "nbconvert_exporter": "python",
   "pygments_lexer": "ipython3",
   "version": "3.8.2"
  }
 },
 "nbformat": 4,
 "nbformat_minor": 5
}
